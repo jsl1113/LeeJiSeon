{
 "cells": [
  {
   "cell_type": "code",
   "execution_count": 11,
   "id": "4628eba1",
   "metadata": {},
   "outputs": [
    {
     "name": "stdout",
     "output_type": "stream",
     "text": [
      "[5, 6, 3]\n"
     ]
    }
   ],
   "source": [
    "def solution1(array, commands):\n",
    "    answer = []\n",
    "    for c in commands:\n",
    "        a = sorted(array[c[0]-1 : c[1]])\n",
    "        answer.append(a[c[2]-1])\n",
    "    return answer\n",
    "\n",
    "array = [1,5,2,6,3,7,4]\n",
    "commands = [[2,5,3],[4,4,1],[1,7,3]]\n",
    "print(solution1(array, commands))"
   ]
  },
  {
   "cell_type": "code",
   "execution_count": null,
   "id": "f3ffc59a",
   "metadata": {},
   "outputs": [],
   "source": [
    "def solution2(array, commands):\n",
    "    return [sorted(array[c[0] - 1 : c[1]])[c[2] - 1] for c in commands]"
   ]
  }
 ],
 "metadata": {
  "kernelspec": {
   "display_name": "Python 3",
   "language": "python",
   "name": "python3"
  },
  "language_info": {
   "codemirror_mode": {
    "name": "ipython",
    "version": 3
   },
   "file_extension": ".py",
   "mimetype": "text/x-python",
   "name": "python",
   "nbconvert_exporter": "python",
   "pygments_lexer": "ipython3",
   "version": "3.8.8"
  }
 },
 "nbformat": 4,
 "nbformat_minor": 5
}
