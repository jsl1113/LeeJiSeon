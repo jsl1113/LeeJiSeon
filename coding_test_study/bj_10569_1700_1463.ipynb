{
 "cells": [
  {
   "cell_type": "code",
   "execution_count": 9,
   "metadata": {},
   "outputs": [
    {
     "name": "stdout",
     "output_type": "stream",
     "text": [
      "2\n",
      "2 6\n",
      "4 6\n",
      "6\n",
      "4\n"
     ]
    }
   ],
   "source": [
    "t=int(input())\n",
    "answer=[]\n",
    "for _ in range(t):\n",
    "    v,e=input().split()\n",
    "    v=int(v)\n",
    "    e=int(e)\n",
    "    result=2+e-v\n",
    "    answer.append(result)\n",
    "for i in range(t):\n",
    "    print(answer[i])"
   ]
  },
  {
   "cell_type": "code",
   "execution_count": 8,
   "metadata": {},
   "outputs": [
    {
     "name": "stdout",
     "output_type": "stream",
     "text": [
      "2 7\n",
      "2 3 2 3 1 2 7\n",
      "2\n"
     ]
    }
   ],
   "source": [
    "n,k=input().split()\n",
    "n=int(n)\n",
    "k=int(k)\n",
    "data=input().split()\n",
    "cnt=[]\n",
    "\n",
    "for _ in range(k):\n",
    "    cnt.append(0)\n",
    "\n",
    "for i in range(k):\n",
    "    data[i]=int(data[i])\n",
    "    \n",
    "for i in range(k):\n",
    "    tmp=data.count(i+1)\n",
    "    cnt[i]=tmp\n",
    "   \n",
    "for i in range(n):\n",
    "    m=cnt.index(max(cnt))\n",
    "    del cnt[m]\n",
    "\n",
    "answer=sum(cnt)\n",
    "print(answer)"
   ]
  },
  {
   "cell_type": "code",
   "execution_count": 7,
   "metadata": {},
   "outputs": [
    {
     "name": "stdout",
     "output_type": "stream",
     "text": [
      "10\n",
      "3\n"
     ]
    }
   ],
   "source": [
    "n=int(input())\n",
    "d=[]\n",
    "d.append(0)\n",
    "d.append(0)\n",
    "d.append(1)\n",
    "d.append(1)\n",
    "\n",
    "for i in range(4,n+1):\n",
    "    d.append(d[i-1]+1)\n",
    "    if i%2==0:\n",
    "        d[i]=min(d[i],d[i//2]+1)\n",
    "    if i%3==0:\n",
    "        d[i]=min(d[i],d[i//3]+1)\n",
    "print(d[n])"
   ]
  }
 ],
 "metadata": {
  "kernelspec": {
   "display_name": "Python 3",
   "language": "python",
   "name": "python3"
  },
  "language_info": {
   "codemirror_mode": {
    "name": "ipython",
    "version": 3
   },
   "file_extension": ".py",
   "mimetype": "text/x-python",
   "name": "python",
   "nbconvert_exporter": "python",
   "pygments_lexer": "ipython3",
   "version": "3.7.3"
  }
 },
 "nbformat": 4,
 "nbformat_minor": 2
}
